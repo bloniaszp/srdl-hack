{
 "cells": [
  {
   "cell_type": "markdown",
   "metadata": {},
   "source": [
    "# Demo code to apply the CNN spike ripple detector\n",
    "\n",
    "This notebook provides a demonstration of how to apply the CNN spike ripple detector.\n",
    "\n",
    "In this notebook, you will load an example time series data, apply the trained CNN spike ripple detector, and visualize the results.\n",
    "\n",
    "This is only a demonstration."
   ]
  },
  {
   "cell_type": "markdown",
   "metadata": {},
   "source": [
    "### Import libraries"
   ]
  },
  {
   "cell_type": "code",
   "execution_count": null,
   "metadata": {},
   "outputs": [],
   "source": [
    "import pandas as pd\n",
    "import numpy as np\n",
    "import matplotlib.pyplot as plt"
   ]
  },
  {
   "cell_type": "markdown",
   "metadata": {},
   "source": [
    "### Load local functions in `demo_functions.py`\n",
    "\n",
    "There are 3 functions to:\n",
    "- Create the spectrogram image files (`make_spectra_image_files` and `hannspecgramc`).\n",
    "- Compute and apply the CNN for spike ripple classification (`compute_CNN`).\n",
    "\n",
    "If you'd like to print out and see these functions, uncomment the line below."
   ]
  },
  {
   "cell_type": "code",
   "execution_count": null,
   "metadata": {},
   "outputs": [],
   "source": [
    "%run demo_application_functions\n",
    "# %load demo_functions    # Run this line to see the functions."
   ]
  },
  {
   "cell_type": "markdown",
   "metadata": {},
   "source": [
    "### Import the time series data\n",
    "- `data` is the voltage time series,\n",
    "- `time` is the corresponding time series (in seconds).\n",
    "\n",
    "Both files are CSV files."
   ]
  },
  {
   "cell_type": "code",
   "execution_count": null,
   "metadata": {},
   "outputs": [],
   "source": [
    "data = pd.read_csv('./demo_data/data.csv').values    # Data file\n",
    "time = pd.read_csv('./demo_data/time.csv').values    # Time file"
   ]
  },
  {
   "cell_type": "markdown",
   "metadata": {},
   "source": [
    "### Create spectra image files\n",
    "Compute spectrograms for time series in `data`. Image files are saved to the folder `demo_data`."
   ]
  },
  {
   "cell_type": "code",
   "execution_count": null,
   "metadata": {},
   "outputs": [],
   "source": [
    "[start_time_dict, stop_time_dict] = make_spectra_image_files(data, time)"
   ]
  },
  {
   "cell_type": "markdown",
   "metadata": {},
   "source": [
    "### Apply pre-trained CNN to `data`\n",
    "\n",
    "The pre-trained CNN uses the model in the file `saved_model.pkl`. This model was trained using the human EEG data with expert classification."
   ]
  },
  {
   "cell_type": "code",
   "execution_count": null,
   "metadata": {},
   "outputs": [],
   "source": [
    "path_to_image_files         = \"demo_spectra_images\"\n",
    "spike_ripple_predictions_df = compute_CNN(path_to_image_files, start_time_dict, stop_time_dict)"
   ]
  },
  {
   "cell_type": "markdown",
   "metadata": {},
   "source": [
    "### Visualize results\n",
    "\n",
    "Print the results of the dataframe, and plot the probability of a spike ripple as a function of time, and as a function of image number."
   ]
  },
  {
   "cell_type": "code",
   "execution_count": null,
   "metadata": {},
   "outputs": [],
   "source": [
    "# Print results\n",
    "spike_ripple_predictions_df"
   ]
  },
  {
   "cell_type": "code",
   "execution_count": null,
   "metadata": {},
   "outputs": [],
   "source": [
    "# Plot results.\n",
    "prob      = spike_ripple_predictions_df[\"probability\"]           # The probability of a spike ripple,\n",
    "start_t   = spike_ripple_predictions_df[\"start time\"]            # ... for each start time [s],\n",
    "file_name = spike_ripple_predictions_df[\"image_number\"]          # ... and for each image numbere.\n",
    "i_sorted  = np.argsort(start_t)              # Get indices sorted by time.\n",
    "\n",
    "figure(figsize=(20, 6))                      # Plot probability vs time.\n",
    "plt.plot(start_t[i_sorted],prob[i_sorted])\n",
    "plt.xlabel('Time [s]'); plt.ylabel('Probability of spike ripple'); plt.xlim([40,80]);\n",
    "\n",
    "figure(figsize=(20, 6)); xticks(rotation=90) # Plot probability vs file number.\n",
    "plt.plot(file_name[i_sorted], prob[i_sorted])\n",
    "plt.xlabel('Filename'); plt.ylabel('Probability of spike ripple'); plt.xlim([40,80]);"
   ]
  }
 ],
 "metadata": {
  "kernelspec": {
   "display_name": "Python 3",
   "language": "python",
   "name": "python3"
  },
  "language_info": {
   "codemirror_mode": {
    "name": "ipython",
    "version": 3
   },
   "file_extension": ".py",
   "mimetype": "text/x-python",
   "name": "python",
   "nbconvert_exporter": "python",
   "pygments_lexer": "ipython3",
   "version": "3.6.4"
  }
 },
 "nbformat": 4,
 "nbformat_minor": 5
}
