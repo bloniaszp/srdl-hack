{
 "cells": [
  {
   "cell_type": "markdown",
   "metadata": {},
   "source": [
    "# Demo code to train the CNN spike ripple detector\n",
    "\n",
    "This notebook provides a demonstration of how to train the CNN spike ripple detector.\n",
    "\n",
    "This is only a demonstration.\n",
    "\n",
    "----\n",
    "**DO NOT USE THIS DETECTOR TO ANALYZE YOUR OWN DATA**\n",
    "\n",
    "----"
   ]
  },
  {
   "cell_type": "markdown",
   "metadata": {},
   "source": [
    "**Note:** this code uses the fastai library *version 1*, https://github.com/fastai/fastai1/blob/master/README.md#installation"
   ]
  },
  {
   "cell_type": "markdown",
   "metadata": {},
   "source": [
    "### Load local functions in `demo_training.py`\n",
    "\n",
    "These functions organize the image data, train the CNN, and apply the CNN to test data.\n",
    "\n",
    "If you'd like to print out and see these functions, uncomment the line below."
   ]
  },
  {
   "cell_type": "code",
   "execution_count": null,
   "metadata": {},
   "outputs": [],
   "source": [
    "%run demo_training_functions.py\n",
    "#%load demo_training.py"
   ]
  },
  {
   "cell_type": "markdown",
   "metadata": {},
   "source": [
    "### Set the path to images, and architecture.\n",
    "\n",
    "- `IMAGE_PATH` is a directory of spectrogram images (jpg) containing subfolders `train`, `test`, and `valid`.\n",
    "\n",
    "- `train` and `valid` have subfolders `Yes` and `No` of positive and negative image cases, respectively.\n",
    "\n",
    "- `test` has uncategorized test images.\n",
    "\n",
    "Check to confirm more than 1 image in each subfolder."
   ]
  },
  {
   "cell_type": "code",
   "execution_count": null,
   "metadata": {},
   "outputs": [],
   "source": [
    "IMAGE_PATH = '.'\n",
    "check_image_count(IMAGE_PATH)"
   ]
  },
  {
   "cell_type": "markdown",
   "metadata": {},
   "source": [
    "### Get prepped for training"
   ]
  },
  {
   "cell_type": "code",
   "execution_count": null,
   "metadata": {},
   "outputs": [],
   "source": [
    "arch    = resnet34 # using resnet architecture\n",
    "data    = get_the_data(IMAGE_PATH, arch)"
   ]
  },
  {
   "cell_type": "markdown",
   "metadata": {},
   "source": [
    "### Train the CNN\n",
    "\n",
    "This step is slow. The results are saved in the file `demo_training_saved_model.pkl`.\n",
    "\n",
    "After training, to apply the CNN spike ripple detector, load the saved `pkl` file. This load is performed automatically in the next step."
   ]
  },
  {
   "cell_type": "code",
   "execution_count": null,
   "metadata": {},
   "outputs": [],
   "source": [
    "train_the_model(data, arch)"
   ]
  },
  {
   "cell_type": "markdown",
   "metadata": {},
   "source": [
    "### Apply the CNN to `test` data"
   ]
  },
  {
   "cell_type": "code",
   "execution_count": null,
   "metadata": {},
   "outputs": [],
   "source": [
    "test_results = test_the_model(data, arch)"
   ]
  },
  {
   "cell_type": "markdown",
   "metadata": {},
   "source": [
    "### Visualize results\n",
    "\n",
    "Print the results for the test data."
   ]
  },
  {
   "cell_type": "code",
   "execution_count": null,
   "metadata": {},
   "outputs": [],
   "source": [
    "# Print results\n",
    "print(test_results.head(30))"
   ]
  }
 ],
 "metadata": {
  "kernelspec": {
   "display_name": "Python 3",
   "language": "python",
   "name": "python3"
  },
  "language_info": {
   "codemirror_mode": {
    "name": "ipython",
    "version": 3
   },
   "file_extension": ".py",
   "mimetype": "text/x-python",
   "name": "python",
   "nbconvert_exporter": "python",
   "pygments_lexer": "ipython3",
   "version": "3.6.4"
  }
 },
 "nbformat": 4,
 "nbformat_minor": 4
}
